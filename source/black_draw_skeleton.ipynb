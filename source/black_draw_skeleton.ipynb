{
 "cells": [
  {
   "cell_type": "code",
   "execution_count": 1,
   "metadata": {},
   "outputs": [
    {
     "name": "stderr",
     "output_type": "stream",
     "text": [
      "Using TensorFlow backend.\n"
     ]
    }
   ],
   "source": [
    "import argparse\n",
    "import time\n",
    "\n",
    "import cv2\n",
    "\n",
    "from processing import extract_parts, draw\n",
    "\n",
    "from config_reader import config_reader\n",
    "from model.cmu_model import get_testing_model\n",
    "import easydict\n",
    "import glob\n",
    "import numpy as np"
   ]
  },
  {
   "cell_type": "code",
   "execution_count": 2,
   "metadata": {},
   "outputs": [],
   "source": [
    "def crop(image, w, f):\n",
    "    return image[:, int(w * f): int(w * (1 - f))]"
   ]
  },
  {
   "cell_type": "code",
   "execution_count": 12,
   "metadata": {},
   "outputs": [],
   "source": [
    "model = get_testing_model()\n",
    "model.load_weights('model/keras/model.h5')\n",
    "params, model_params = config_reader()\n",
    "\n",
    " \n",
    "factor = 0.1\n",
    "scale_search = [0.22, 0.25, .5, 1, 1.5, 2]  \n",
    "process_speed = 1\n",
    "scale_search = scale_search[0:process_speed]\n",
    "params['scale_search'] = scale_search\n",
    "resize_fac = 0.5\n",
    "\n",
    "\n",
    "\n",
    "\n",
    "black = cv2.imread('black.png')\n",
    "input_image = cv2.imread('jg1.jpg')\n",
    "\n",
    "width = input_image.shape[1]\n",
    "\n",
    "frame = crop(input_image, width, factor)\n",
    "input_image = cv2.resize(frame, (0, 0), fx=1/resize_fac, fy=1/resize_fac, interpolation=cv2.INTER_CUBIC)\n",
    "input_image = cv2.cvtColor(input_image, cv2.COLOR_RGB2BGR)\n",
    "\n",
    "\n",
    "        \n",
    "body_parts, all_peaks, subset, candidate = extract_parts(input_image, params, model, model_params)\n",
    "canvas = draw(input_image, all_peaks, subset, candidate)\n",
    "black = draw(black, all_peaks, subset, candidate)\n",
    "#cv2.imshow('img', input_image)\n",
    "cv2.imwrite('test6.png', black)\n",
    "\n",
    "cv2.destroyAllWindows()"
   ]
  },
  {
   "cell_type": "code",
   "execution_count": 4,
   "metadata": {},
   "outputs": [
    {
     "name": "stdout",
     "output_type": "stream",
     "text": [
      "processing time is 29.39925\n",
      "processing time is 57.82264\n",
      "processing time is 86.93126\n",
      "processing time is 115.49850\n",
      "processing time is 143.96536\n",
      "processing time is 172.59335\n",
      "processing time is 201.15310\n",
      "processing time is 229.71113\n",
      "processing time is 258.17402\n",
      "processing time is 286.78991\n",
      "processing time is 315.35923\n",
      "processing time is 344.23387\n",
      "processing time is 372.64733\n",
      "processing time is 401.00540\n",
      "processing time is 429.83360\n",
      "processing time is 458.17745\n",
      "processing time is 486.59206\n",
      "processing time is 522.31102\n",
      "processing time is 554.37812\n",
      "processing time is 586.40942\n",
      "processing time is 619.51094\n",
      "processing time is 650.23068\n",
      "processing time is 678.90052\n",
      "processing time is 707.57264\n",
      "processing time is 737.01338\n",
      "processing time is 766.29850\n",
      "processing time is 796.21379\n",
      "processing time is 824.97007\n",
      "processing time is 854.53373\n",
      "processing time is 883.58688\n",
      "processing time is 912.39599\n",
      "processing time is 941.90695\n",
      "processing time is 970.66066\n",
      "processing time is 1000.23376\n",
      "processing time is 1029.10421\n",
      "processing time is 1057.99466\n",
      "processing time is 1087.27440\n",
      "processing time is 1115.96146\n",
      "processing time is 1144.75728\n",
      "processing time is 1174.49487\n",
      "processing time is 1203.18507\n",
      "processing time is 1232.92296\n",
      "processing time is 1263.35367\n",
      "processing time is 1291.88810\n",
      "processing time is 1320.31734\n",
      "processing time is 1348.90364\n",
      "processing time is 1378.46973\n",
      "processing time is 1407.24841\n",
      "processing time is 1436.49408\n",
      "processing time is 1465.52085\n",
      "processing time is 1494.25369\n",
      "processing time is 1524.48270\n"
     ]
    }
   ],
   "source": [
    "tic = time.time()\n",
    "file_list = glob.glob('g8/*.jpg') \n",
    "number = 150\n",
    "\n",
    "for i in range(len(file_list)):    \n",
    "    \n",
    "    factor = 0.1\n",
    "    scale_search = [0.22, 0.25, .5, 1, 1.5, 2]  \n",
    "    process_speed = 1\n",
    "    scale_search = scale_search[0:process_speed]\n",
    "    params['scale_search'] = scale_search\n",
    "    resize_fac = 1.5\n",
    "\n",
    "    model = get_testing_model()\n",
    "    model.load_weights('model/keras/model.h5')\n",
    "    params, model_params = config_reader()\n",
    "    input_image = cv2.imread(file_list[i])\n",
    "\n",
    "    black = cv2.imread('black.png')\n",
    "    \n",
    "    width = input_image.shape[1]\n",
    "    \n",
    "    frame = crop(input_image, width, factor)\n",
    "    input_image = cv2.resize(frame, (0, 0), fx=1/resize_fac, fy=1/resize_fac, interpolation=cv2.INTER_CUBIC)\n",
    "    input_image = cv2.cvtColor(input_image, cv2.COLOR_RGB2BGR)\n",
    "\n",
    "    body_parts, all_peaks, subset, candidate = extract_parts(input_image, params, model, model_params)\n",
    "    #black = draw(black, all_peaks, subset, candidate, resize_fac=resize_fac)\n",
    "    black = draw(black, all_peaks, subset, candidate)\n",
    "    \n",
    "    toc = time.time()\n",
    "    cv2.imwrite('output_data/g8/test%d.jpg'%number, black)\n",
    "    print('processing time is %.5f' % (toc - tic))\n",
    "    number += 1\n",
    "\n",
    "cv2.destroyAllWindows()"
   ]
  },
  {
   "cell_type": "code",
   "execution_count": null,
   "metadata": {},
   "outputs": [],
   "source": []
  },
  {
   "cell_type": "code",
   "execution_count": null,
   "metadata": {},
   "outputs": [],
   "source": []
  },
  {
   "cell_type": "code",
   "execution_count": null,
   "metadata": {},
   "outputs": [],
   "source": []
  }
 ],
 "metadata": {
  "kernelspec": {
   "display_name": "Python 3",
   "language": "python",
   "name": "python3"
  },
  "language_info": {
   "codemirror_mode": {
    "name": "ipython",
    "version": 3
   },
   "file_extension": ".py",
   "mimetype": "text/x-python",
   "name": "python",
   "nbconvert_exporter": "python",
   "pygments_lexer": "ipython3",
   "version": "3.7.4"
  }
 },
 "nbformat": 4,
 "nbformat_minor": 4
}
